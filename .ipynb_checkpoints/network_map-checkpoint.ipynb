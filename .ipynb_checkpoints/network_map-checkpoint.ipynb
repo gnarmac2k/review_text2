{
 "cells": [
  {
   "cell_type": "code",
   "execution_count": null,
   "id": "7461846d-2ab4-4c31-8fb1-312cc1c09c23",
   "metadata": {},
   "outputs": [],
   "source": [
    "import networkx as nx\n",
    "import matplotlib.pyplot as plt"
   ]
  },
  {
   "cell_type": "code",
   "execution_count": null,
   "id": "6af55b3d-fb38-4045-b891-06c7a9c0fef0",
   "metadata": {},
   "outputs": [],
   "source": [
    "def plot_network_map(movie_data):\n",
    "    \"\"\"\n",
    "    movie_data: A dictionary where key is the movie name and value is a list of tuples.\n",
    "                Each tuple contains a similar movie name and its similarity score.\n",
    "                e.g. {\"MovieA\": [(\"MovieB\", 0.9), (\"MovieC\", 0.85)], \"MovieB\": [(\"MovieA\", 0.9)]}\n",
    "    \"\"\"\n",
    "    G = nx.Graph()\n",
    "\n",
    "    # Add nodes and edges based on the similarity scores\n",
    "    for movie, similarities in movie_data.items():\n",
    "        for sim_movie, score in similarities:\n",
    "            if score > threshold: # You can set a threshold to control which edges to include\n",
    "                G.add_edge(movie, sim_movie, weight=score)\n",
    "\n",
    "    # Draw the network\n",
    "    pos = nx.spring_layout(G)\n",
    "    plt.figure(figsize=(10, 8))\n",
    "    \n",
    "    nx.draw_networkx_nodes(G, pos)\n",
    "    nx.draw_networkx_labels(G, pos)\n",
    "    nx.draw_networkx_edges(G, pos, width=[G[u][v]['weight'] for u, v in G.edges()])\n",
    "\n",
    "    plt.title(\"Movie Similarity Network\")\n",
    "    plt.show()\n",
    "\n",
    "# Sample data\n",
    "movie_data = {\n",
    "    \"MovieA\": [(\"MovieB\", 0.9), (\"MovieC\", 0.85), (\"MovieD\", 0.4)],\n",
    "    \"MovieB\": [(\"MovieA\", 0.9), (\"MovieE\", 0.8)],\n",
    "    \"MovieC\": [(\"MovieA\", 0.85), (\"MovieE\", 0.7)],\n",
    "    \"MovieD\": [(\"MovieA\", 0.4)],\n",
    "    \"MovieE\": [(\"MovieB\", 0.8), (\"MovieC\", 0.7)]\n",
    "}\n",
    "\n",
    "threshold = 0.5\n",
    "plot_network_map(movie_data)"
   ]
  }
 ],
 "metadata": {
  "kernelspec": {
   "display_name": "Python 3 (ipykernel)",
   "language": "python",
   "name": "python3"
  },
  "language_info": {
   "codemirror_mode": {
    "name": "ipython",
    "version": 3
   },
   "file_extension": ".py",
   "mimetype": "text/x-python",
   "name": "python",
   "nbconvert_exporter": "python",
   "pygments_lexer": "ipython3",
   "version": "3.10.9"
  }
 },
 "nbformat": 4,
 "nbformat_minor": 5
}
