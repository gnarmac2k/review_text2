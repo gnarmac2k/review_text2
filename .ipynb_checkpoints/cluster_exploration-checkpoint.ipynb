{
 "cells": [
  {
   "cell_type": "code",
   "execution_count": 6,
   "id": "33ded509-4516-4ccd-bb35-0ff9a21befbe",
   "metadata": {},
   "outputs": [],
   "source": [
    "import pandas as pd\n",
    "from pathlib import Path\n",
    "import csv"
   ]
  },
  {
   "cell_type": "code",
   "execution_count": 7,
   "id": "0a70189a-76d4-4ee2-b705-ed6523dc78b4",
   "metadata": {},
   "outputs": [],
   "source": [
    "df = pd.read_csv('movies_with_clusters.csv')"
   ]
  },
  {
   "cell_type": "code",
   "execution_count": 8,
   "id": "a0772846-5c23-478d-a2dc-7024cb5104b0",
   "metadata": {},
   "outputs": [
    {
     "data": {
      "text/html": [
       "<div>\n",
       "<style scoped>\n",
       "    .dataframe tbody tr th:only-of-type {\n",
       "        vertical-align: middle;\n",
       "    }\n",
       "\n",
       "    .dataframe tbody tr th {\n",
       "        vertical-align: top;\n",
       "    }\n",
       "\n",
       "    .dataframe thead th {\n",
       "        text-align: right;\n",
       "    }\n",
       "</style>\n",
       "<table border=\"1\" class=\"dataframe\">\n",
       "  <thead>\n",
       "    <tr style=\"text-align: right;\">\n",
       "      <th></th>\n",
       "      <th>Movie Name</th>\n",
       "      <th>Corpus</th>\n",
       "      <th>Tokenized Corpus</th>\n",
       "      <th>Cluster</th>\n",
       "    </tr>\n",
       "  </thead>\n",
       "  <tbody>\n",
       "    <tr>\n",
       "      <th>0</th>\n",
       "      <td>10 Cloverfield Lane 2016</td>\n",
       "      <td>movie full suspense makes guess real happens w...</td>\n",
       "      <td>[101, 3185, 2440, 23873, 3084, 3984, 2613, 643...</td>\n",
       "      <td>2</td>\n",
       "    </tr>\n",
       "    <tr>\n",
       "      <th>1</th>\n",
       "      <td>10 Things I Hate About You 1999</td>\n",
       "      <td>first day new school cameron falls bianca stra...</td>\n",
       "      <td>[101, 2034, 2154, 2047, 2082, 7232, 4212, 1805...</td>\n",
       "      <td>2</td>\n",
       "    </tr>\n",
       "    <tr>\n",
       "      <th>2</th>\n",
       "      <td>12 Angry Men 1957</td>\n",
       "      <td>excellent courtroom drama unique twist instead...</td>\n",
       "      <td>[101, 6581, 20747, 3689, 4310, 9792, 2612, 220...</td>\n",
       "      <td>2</td>\n",
       "    </tr>\n",
       "    <tr>\n",
       "      <th>3</th>\n",
       "      <td>12 Monkeys 1995</td>\n",
       "      <td>terry gilliam fantastic twisted story virus de...</td>\n",
       "      <td>[101, 6609, 12267, 25107, 10392, 6389, 2466, 7...</td>\n",
       "      <td>0</td>\n",
       "    </tr>\n",
       "    <tr>\n",
       "      <th>4</th>\n",
       "      <td>12 Strong 2018</td>\n",
       "      <td>see films like really underlines programmed ig...</td>\n",
       "      <td>[101, 2156, 3152, 2066, 2428, 2104, 12735, 169...</td>\n",
       "      <td>1</td>\n",
       "    </tr>\n",
       "  </tbody>\n",
       "</table>\n",
       "</div>"
      ],
      "text/plain": [
       "                        Movie Name  \\\n",
       "0         10 Cloverfield Lane 2016   \n",
       "1  10 Things I Hate About You 1999   \n",
       "2                12 Angry Men 1957   \n",
       "3                  12 Monkeys 1995   \n",
       "4                   12 Strong 2018   \n",
       "\n",
       "                                              Corpus  \\\n",
       "0  movie full suspense makes guess real happens w...   \n",
       "1  first day new school cameron falls bianca stra...   \n",
       "2  excellent courtroom drama unique twist instead...   \n",
       "3  terry gilliam fantastic twisted story virus de...   \n",
       "4  see films like really underlines programmed ig...   \n",
       "\n",
       "                                    Tokenized Corpus  Cluster  \n",
       "0  [101, 3185, 2440, 23873, 3084, 3984, 2613, 643...        2  \n",
       "1  [101, 2034, 2154, 2047, 2082, 7232, 4212, 1805...        2  \n",
       "2  [101, 6581, 20747, 3689, 4310, 9792, 2612, 220...        2  \n",
       "3  [101, 6609, 12267, 25107, 10392, 6389, 2466, 7...        0  \n",
       "4  [101, 2156, 3152, 2066, 2428, 2104, 12735, 169...        1  "
      ]
     },
     "execution_count": 8,
     "metadata": {},
     "output_type": "execute_result"
    }
   ],
   "source": [
    "df.head()"
   ]
  },
  {
   "cell_type": "code",
   "execution_count": 24,
   "id": "f14ee5af-d682-45ef-8555-2f0c3270cf36",
   "metadata": {},
   "outputs": [
    {
     "name": "stdout",
     "output_type": "stream",
     "text": [
      "1    412\n",
      "0    377\n",
      "2    360\n",
      "Name: Cluster, dtype: int64\n"
     ]
    }
   ],
   "source": [
    "value_counts = df['Cluster'].value_counts()\n",
    "\n",
    "print(value_counts)\n"
   ]
  }
 ],
 "metadata": {
  "kernelspec": {
   "display_name": "Python 3 (ipykernel)",
   "language": "python",
   "name": "python3"
  },
  "language_info": {
   "codemirror_mode": {
    "name": "ipython",
    "version": 3
   },
   "file_extension": ".py",
   "mimetype": "text/x-python",
   "name": "python",
   "nbconvert_exporter": "python",
   "pygments_lexer": "ipython3",
   "version": "3.10.9"
  }
 },
 "nbformat": 4,
 "nbformat_minor": 5
}
