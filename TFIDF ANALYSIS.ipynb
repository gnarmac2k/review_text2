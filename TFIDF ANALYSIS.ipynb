{
 "cells": [
  {
   "cell_type": "code",
   "execution_count": 7,
   "id": "758ac280-445d-4aa6-98e7-e1f8e368943e",
   "metadata": {},
   "outputs": [],
   "source": [
    "import pandas as pd\n",
    "from pathlib import Path\n",
    "from sklearn.feature_extraction.text import TfidfVectorizer\n",
    "from sklearn.metrics.pairwise import cosine_similarity"
   ]
  },
  {
   "cell_type": "code",
   "execution_count": 8,
   "id": "06704e31-da60-4005-b409-dd02db583925",
   "metadata": {},
   "outputs": [],
   "source": [
    "df = pd.read_csv('movie_corpora.csv')"
   ]
  },
  {
   "cell_type": "code",
   "execution_count": 18,
   "id": "de95a06a-fbf1-4772-85c7-401e426b6ec8",
   "metadata": {},
   "outputs": [],
   "source": [
    "# Extract Movie Names and Corpus\n",
    "movie_names = df['Movie Name'].tolist()\n",
    "corpus = df['Corpus'].tolist()"
   ]
  },
  {
   "cell_type": "code",
   "execution_count": 19,
   "id": "0ff36891-5ff9-4a3b-a232-a210483330f5",
   "metadata": {},
   "outputs": [],
   "source": [
    "tfidf_vectorizer = TfidfVectorizer()\n",
    "tfidf_matrix = tfidf_vectorizer.fit_transform(corpus)"
   ]
  },
  {
   "cell_type": "code",
   "execution_count": 20,
   "id": "8bfcdc9e-0791-4ceb-9758-5b757e4d2318",
   "metadata": {},
   "outputs": [],
   "source": [
    "similarity_matrix = cosine_similarity(tfidf_matrix)"
   ]
  },
  {
   "cell_type": "code",
   "execution_count": 23,
   "id": "b193ba61-f74c-4b56-a146-3ab6c84fda87",
   "metadata": {},
   "outputs": [
    {
     "name": "stdout",
     "output_type": "stream",
     "text": [
      "Movie: Toy Story 2 1999, Similarity Score: 0.8810183953255949\n",
      "Movie: Toy Story 3 2010, Similarity Score: 0.854978383440288\n",
      "Movie: Toy Story 4 2019, Similarity Score: 0.7287174947682608\n",
      "Movie: WALL·E 2008, Similarity Score: 0.4946673184811866\n",
      "Movie: Cars 2006, Similarity Score: 0.4441973215838626\n",
      "Movie: The Incredibles 2004, Similarity Score: 0.43900886222138646\n",
      "Movie: Spider-Man_ Into the Spider-Verse 2018, Similarity Score: 0.43534741690014006\n",
      "Movie: The Shawshank Redemption 1994, Similarity Score: 0.40949624835863774\n",
      "Movie: A Bug's Life 1998, Similarity Score: 0.40344007669167664\n",
      "Movie: Monsters, Inc. 2001, Similarity Score: 0.3915684519064413\n",
      "Movie: The Polar Express 2004, Similarity Score: 0.388847557123111\n",
      "Movie: Inside Out 2015, Similarity Score: 0.387343932331673\n",
      "Movie: Up 2009, Similarity Score: 0.387260561310605\n",
      "Movie: Cars 2 2011, Similarity Score: 0.38464610915988096\n",
      "Movie: Incredibles 2 2018, Similarity Score: 0.37754474678270616\n",
      "Movie: E.T. the Extra-Terrestrial 1982, Similarity Score: 0.36385546960000015\n",
      "Movie: It Follows 2014, Similarity Score: 0.3617731769609268\n",
      "Movie: A Quiet Place 2018, Similarity Score: 0.3585243787465904\n",
      "Movie: 2012 2009, Similarity Score: 0.35641086566739255\n",
      "Movie: Cloud Atlas 2012, Similarity Score: 0.3542204487753612\n",
      "Movie: Saw 2004, Similarity Score: 0.3463765978400404\n",
      "Movie: Cloverfield 2008, Similarity Score: 0.34485362307976075\n",
      "Movie: Ice Age 2002, Similarity Score: 0.34425468987670477\n",
      "Movie: The Secret Life of Pets 2016, Similarity Score: 0.34332820910375084\n",
      "Movie: Sausage Party 2016, Similarity Score: 0.34284278588656086\n",
      "Movie: Ready Player One 2018, Similarity Score: 0.3417663533189242\n",
      "Movie: Avatar 2009, Similarity Score: 0.34116639211863287\n",
      "Movie: The Blair Witch Project 1999, Similarity Score: 0.3411585657998055\n",
      "Movie: Super 8 2011, Similarity Score: 0.34043278561773327\n",
      "Movie: Mr. Nobody 2009, Similarity Score: 0.3403798915421539\n",
      "Movie: Kick-Ass 2010, Similarity Score: 0.338658051436233\n",
      "Movie: The Iron Giant 1999, Similarity Score: 0.33856687781039846\n",
      "Movie: 2001_ A Space Odyssey 1968, Similarity Score: 0.33791160014241006\n",
      "Movie: Bird Box 2018, Similarity Score: 0.3374390815709991\n",
      "Movie: Antz 1998, Similarity Score: 0.3357206845386559\n",
      "Movie: The Descent 2005, Similarity Score: 0.3348195753211319\n",
      "Movie: The Lord of the Rings_ The Fellowship of the Ring 2001, Similarity Score: 0.33440350868831314\n",
      "Movie: Mother! 2017, Similarity Score: 0.33425111202707636\n",
      "Movie: Parasite 2019, Similarity Score: 0.3336725289766291\n",
      "Movie: Titanic 1997, Similarity Score: 0.33353074299431473\n",
      "Movie: Saving Private Ryan 1998, Similarity Score: 0.33325245778290136\n",
      "Movie: Monsters University 2013, Similarity Score: 0.33310405926444797\n",
      "Movie: Match Point 2005, Similarity Score: 0.33222678868459105\n",
      "Movie: Mary and Max 2009, Similarity Score: 0.33074787323082316\n",
      "Movie: War of the Worlds 2005, Similarity Score: 0.33064588920195775\n",
      "Movie: City of God 2002, Similarity Score: 0.33041238876306406\n",
      "Movie: Knowing 2009, Similarity Score: 0.32840452158647154\n",
      "Movie: Arrival 2016, Similarity Score: 0.3283311638621623\n",
      "Movie: Insidious 2010, Similarity Score: 0.3280034851245052\n",
      "Movie: The Happening 2008, Similarity Score: 0.32713121307056026\n",
      "Movie: About Time 2013, Similarity Score: 0.32675894636028396\n",
      "Movie: The Cabin in the Woods 2011, Similarity Score: 0.32604671182918915\n",
      "Movie: Saints and Soldiers 2003, Similarity Score: 0.326042611025481\n",
      "Movie: Transformers_ Revenge of the Fallen 2009, Similarity Score: 0.32590669191141347\n",
      "Movie: Annihilation 2018, Similarity Score: 0.3256579030112816\n",
      "Movie: Sucker Punch 2011, Similarity Score: 0.3246106956835229\n",
      "Movie: Oldboy 2003, Similarity Score: 0.32412469844258535\n",
      "Movie: Hereditary 2018, Similarity Score: 0.32366961246115633\n",
      "Movie: The Matrix 1999, Similarity Score: 0.32345081571491985\n",
      "Movie: Independence Day 1996, Similarity Score: 0.3233729774114874\n",
      "Movie: The 40-Year-Old Virgin 2005, Similarity Score: 0.32321081277469454\n",
      "Movie: Scary Movie 2 2001, Similarity Score: 0.3229569711871142\n",
      "Movie: The Day After Tomorrow 2004, Similarity Score: 0.3225162990020514\n",
      "Movie: Memento 2000, Similarity Score: 0.3221853290544482\n",
      "Movie: Silent Hill 2006, Similarity Score: 0.3214409635033255\n",
      "Movie: The Ring 2002, Similarity Score: 0.3212193207252473\n",
      "Movie: Crash 2004, Similarity Score: 0.3192173413860819\n",
      "Movie: Oblivion 2013, Similarity Score: 0.31889603851551235\n",
      "Movie: Coco 2017, Similarity Score: 0.31862868124326726\n",
      "Movie: V for Vendetta 2005, Similarity Score: 0.3182258884133889\n",
      "Movie: Pulp Fiction 1994, Similarity Score: 0.31806351146751044\n",
      "Movie: Signs 2002, Similarity Score: 0.3175172284847341\n",
      "Movie: Midway 2019, Similarity Score: 0.3174481329362032\n",
      "Movie: The Village 2004, Similarity Score: 0.3165967876647367\n",
      "Movie: Love and Death 1975, Similarity Score: 0.31625697639734973\n",
      "Movie: Interstellar 2014, Similarity Score: 0.31531378575556707\n",
      "Movie: The Lord of the Rings_ The Return of the King 2003, Similarity Score: 0.31522487261293547\n",
      "Movie: Life 2017, Similarity Score: 0.31520629826539637\n",
      "Movie: Your Name. 2016, Similarity Score: 0.31476216541368635\n",
      "Movie: The Thin Red Line 1998, Similarity Score: 0.3143595599303739\n",
      "Movie: Final Destination 2 2003, Similarity Score: 0.31363488335847656\n",
      "Movie: Pirates of the Caribbean_ Dead Man's Chest 2006, Similarity Score: 0.3132856828395437\n",
      "Movie: Saw II 2005, Similarity Score: 0.31298755125505245\n",
      "Movie: 28 Days Later... 2002, Similarity Score: 0.3128135752287756\n",
      "Movie: 1917 2019, Similarity Score: 0.3125921126469389\n",
      "Movie: Lock, Stock and Two Smoking Barrels 1998, Similarity Score: 0.3123575597080754\n",
      "Movie: The Witch 2015, Similarity Score: 0.31193026117142303\n",
      "Movie: The Hills Have Eyes 2006, Similarity Score: 0.31187953699504034\n",
      "Movie: World Trade Center 2006, Similarity Score: 0.3115795615025232\n",
      "Movie: Cast Away 2000, Similarity Score: 0.3104949159216948\n",
      "Movie: Children of Men 2006, Similarity Score: 0.3102847924385629\n",
      "Movie: Star Wars_ Episode IV - A New Hope 1977, Similarity Score: 0.31006783880761785\n",
      "Movie: Brave 2012, Similarity Score: 0.3095730264991218\n",
      "Movie: It Chapter Two 2019, Similarity Score: 0.3093121501935653\n",
      "Movie: Event Horizon 1997, Similarity Score: 0.30929998318004176\n",
      "Movie: Armageddon 1998, Similarity Score: 0.3091889539428888\n",
      "Movie: Empire Records 1995, Similarity Score: 0.3087859519173212\n",
      "Movie: Love Actually 2003, Similarity Score: 0.30867696490069896\n",
      "Movie: To Rome With Love 2012, Similarity Score: 0.3080095256946029\n"
     ]
    }
   ],
   "source": [
    "# Assuming 'toy_story_index' is the index of Toy Story in your dataset\n",
    "toy_story_index = movie_names.index('Toy Story 1995')\n",
    "\n",
    "# Get similarity scores for Toy Story\n",
    "similarities_to_toy_story = list(enumerate(similarity_matrix[toy_story_index]))\n",
    "\n",
    "# Sort movies by similarity score (descending order)\n",
    "similarities_to_toy_story = sorted(similarities_to_toy_story, key=lambda x: x[1], reverse=True)\n",
    "\n",
    "# Print similar movies\n",
    "top_similar_movies = similarities_to_toy_story[1:100]  # Excluding Toy Story itself\n",
    "for movie_index, similarity_score in top_similar_movies:\n",
    "    print(f\"Movie: {movie_names[movie_index]}, Similarity Score: {similarity_score}\")"
   ]
  },
  {
   "cell_type": "code",
   "execution_count": null,
   "id": "21620269-c3da-4a35-bb4a-8805740c3d21",
   "metadata": {},
   "outputs": [],
   "source": []
  }
 ],
 "metadata": {
  "kernelspec": {
   "display_name": "Python 3 (ipykernel)",
   "language": "python",
   "name": "python3"
  },
  "language_info": {
   "codemirror_mode": {
    "name": "ipython",
    "version": 3
   },
   "file_extension": ".py",
   "mimetype": "text/x-python",
   "name": "python",
   "nbconvert_exporter": "python",
   "pygments_lexer": "ipython3",
   "version": "3.10.9"
  }
 },
 "nbformat": 4,
 "nbformat_minor": 5
}
